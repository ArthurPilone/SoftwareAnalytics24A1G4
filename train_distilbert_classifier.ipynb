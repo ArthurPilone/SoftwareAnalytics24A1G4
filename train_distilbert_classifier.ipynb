{
 "cells": [
  {
   "cell_type": "code",
   "execution_count": 1,
   "metadata": {},
   "outputs": [
    {
     "name": "stderr",
     "output_type": "stream",
     "text": [
      "/home/usuario/Documents/USI/Software Analytics/assignment1/SoftwareAnalytics24A1G4/.venv/lib/python3.10/site-packages/tqdm/auto.py:21: TqdmWarning: IProgress not found. Please update jupyter and ipywidgets. See https://ipywidgets.readthedocs.io/en/stable/user_install.html\n",
      "  from .autonotebook import tqdm as notebook_tqdm\n"
     ]
    }
   ],
   "source": [
    "import sys\n",
    "import os\n",
    "import evaluate\n",
    "import pandas as pd\n",
    "import numpy as np\n",
    "from pathlib import Path\n",
    "\n",
    "sys.path.append(str(Path(os.path.abspath('')).absolute().parent))"
   ]
  },
  {
   "cell_type": "code",
   "execution_count": 2,
   "metadata": {},
   "outputs": [
    {
     "name": "stdout",
     "output_type": "stream",
     "text": [
      "1000\n",
      "Size without NaNs  471\n"
     ]
    }
   ],
   "source": [
    "TRAINING_DATASET_PATH = \"../1K_issues.gzip\"\n",
    "TEST_DATASET_PATH = \"../1K_issues.gzip\"\n",
    "\n",
    "training_dataset = pd.read_csv(TRAINING_DATASET_PATH, compression='gzip', lineterminator='\\n')\n",
    "training_dataset = training_dataset.dropna()\n",
    "\n",
    "test_dataset = pd.read_csv(TEST_DATASET_PATH, compression='gzip', lineterminator='\\n')\n",
    "print(len(test_dataset))\n",
    "test_dataset = test_dataset.dropna()\n",
    "print(\"Size without NaNs \",len(test_dataset))"
   ]
  },
  {
   "cell_type": "code",
   "execution_count": 3,
   "metadata": {},
   "outputs": [
    {
     "data": {
      "text/html": [
       "<div>\n",
       "<style scoped>\n",
       "    .dataframe tbody tr th:only-of-type {\n",
       "        vertical-align: middle;\n",
       "    }\n",
       "\n",
       "    .dataframe tbody tr th {\n",
       "        vertical-align: top;\n",
       "    }\n",
       "\n",
       "    .dataframe thead th {\n",
       "        text-align: right;\n",
       "    }\n",
       "</style>\n",
       "<table border=\"1\" class=\"dataframe\">\n",
       "  <thead>\n",
       "    <tr style=\"text-align: right;\">\n",
       "      <th></th>\n",
       "      <th>identifier</th>\n",
       "      <th>assignee</th>\n",
       "      <th>summary</th>\n",
       "      <th>body</th>\n",
       "      <th>creation_time</th>\n",
       "      <th>completion_time</th>\n",
       "      <th>extra_data</th>\n",
       "    </tr>\n",
       "  </thead>\n",
       "  <tbody>\n",
       "    <tr>\n",
       "      <th>3</th>\n",
       "      <td>229807</td>\n",
       "      <td>alexdima</td>\n",
       "      <td>Fix editing session lifecycle issues</td>\n",
       "      <td>&lt;!-- Thank you for submitting a Pull Request. ...</td>\n",
       "      <td>2024-09-26 09:38:28+00:00</td>\n",
       "      <td>2024-09-26 09:57:45+00:00</td>\n",
       "      <td>{}</td>\n",
       "    </tr>\n",
       "    <tr>\n",
       "      <th>4</th>\n",
       "      <td>229806</td>\n",
       "      <td>aiday-mar</td>\n",
       "      <td>Using different backgrounds on composition ins...</td>\n",
       "      <td>in relation to https://github.com/microsoft/vs...</td>\n",
       "      <td>2024-09-26 09:37:04+00:00</td>\n",
       "      <td>2024-09-26 09:55:59+00:00</td>\n",
       "      <td>{}</td>\n",
       "    </tr>\n",
       "    <tr>\n",
       "      <th>5</th>\n",
       "      <td>229805</td>\n",
       "      <td>aeschli</td>\n",
       "      <td>Cancelling application of edits results in a d...</td>\n",
       "      <td>Fixes https://github.com/microsoft/vscode-copi...</td>\n",
       "      <td>2024-09-26 09:28:12+00:00</td>\n",
       "      <td>2024-09-26 09:47:11+00:00</td>\n",
       "      <td>{}</td>\n",
       "    </tr>\n",
       "    <tr>\n",
       "      <th>8</th>\n",
       "      <td>229802</td>\n",
       "      <td>jrieken</td>\n",
       "      <td>Revert \"Revert \"chat command center polish (#2...</td>\n",
       "      <td>This reverts commit 11fb5bbfdb1a8926b202983465...</td>\n",
       "      <td>2024-09-26 08:52:25+00:00</td>\n",
       "      <td>2024-09-26 09:11:36+00:00</td>\n",
       "      <td>{}</td>\n",
       "    </tr>\n",
       "    <tr>\n",
       "      <th>17</th>\n",
       "      <td>229793</td>\n",
       "      <td>aeschli</td>\n",
       "      <td>When i paste code it keeps auto closing the fi...</td>\n",
       "      <td>When I paste a perfectly good chunk of code, t...</td>\n",
       "      <td>2024-09-26 06:36:32+00:00</td>\n",
       "      <td>2024-09-26 09:05:34+00:00</td>\n",
       "      <td>{}</td>\n",
       "    </tr>\n",
       "  </tbody>\n",
       "</table>\n",
       "</div>"
      ],
      "text/plain": [
       "    identifier   assignee                                            summary  \\\n",
       "3       229807   alexdima               Fix editing session lifecycle issues   \n",
       "4       229806  aiday-mar  Using different backgrounds on composition ins...   \n",
       "5       229805    aeschli  Cancelling application of edits results in a d...   \n",
       "8       229802    jrieken  Revert \"Revert \"chat command center polish (#2...   \n",
       "17      229793    aeschli  When i paste code it keeps auto closing the fi...   \n",
       "\n",
       "                                                 body  \\\n",
       "3   <!-- Thank you for submitting a Pull Request. ...   \n",
       "4   in relation to https://github.com/microsoft/vs...   \n",
       "5   Fixes https://github.com/microsoft/vscode-copi...   \n",
       "8   This reverts commit 11fb5bbfdb1a8926b202983465...   \n",
       "17  When I paste a perfectly good chunk of code, t...   \n",
       "\n",
       "                creation_time            completion_time extra_data  \n",
       "3   2024-09-26 09:38:28+00:00  2024-09-26 09:57:45+00:00         {}  \n",
       "4   2024-09-26 09:37:04+00:00  2024-09-26 09:55:59+00:00         {}  \n",
       "5   2024-09-26 09:28:12+00:00  2024-09-26 09:47:11+00:00         {}  \n",
       "8   2024-09-26 08:52:25+00:00  2024-09-26 09:11:36+00:00         {}  \n",
       "17  2024-09-26 06:36:32+00:00  2024-09-26 09:05:34+00:00         {}  "
      ]
     },
     "execution_count": 3,
     "metadata": {},
     "output_type": "execute_result"
    }
   ],
   "source": [
    "\n",
    "training_dataset.head()"
   ]
  },
  {
   "cell_type": "code",
   "execution_count": 4,
   "metadata": {},
   "outputs": [],
   "source": [
    "label_as_id = {}\n",
    "id_as_label = {}\n",
    "\n",
    "new_id = 0\n",
    "for assignee in training_dataset[\"assignee\"].unique():\n",
    "\tlabel_as_id[assignee] = new_id\n",
    "\tid_as_label[new_id] = assignee\n",
    "\tnew_id+=1\n",
    "\n",
    "def parse_label_to_id(label):\n",
    "    return label_as_id[label]\n",
    "\n",
    "# print(id_as_label)"
   ]
  },
  {
   "cell_type": "markdown",
   "metadata": {},
   "source": [
    "### Importing our model and tokenizer"
   ]
  },
  {
   "cell_type": "code",
   "execution_count": 5,
   "metadata": {},
   "outputs": [
    {
     "name": "stderr",
     "output_type": "stream",
     "text": [
      "Some weights of DistilBertForSequenceClassification were not initialized from the model checkpoint at distilbert/distilbert-base-uncased and are newly initialized: ['classifier.bias', 'classifier.weight', 'pre_classifier.bias', 'pre_classifier.weight']\n",
      "You should probably TRAIN this model on a down-stream task to be able to use it for predictions and inference.\n"
     ]
    }
   ],
   "source": [
    "from transformers import AutoModelForSequenceClassification, AutoTokenizer#, DataCollatorWithPadding\n",
    "from datasets import Dataset\n",
    "\n",
    "MODEL_NAME = \"distilbert/distilbert-base-uncased\"\n",
    "CONTEXT_LENGTH = 512\n",
    "\n",
    "tokenizer = AutoTokenizer.from_pretrained(MODEL_NAME)\n",
    "model = AutoModelForSequenceClassification.from_pretrained(\n",
    "\tMODEL_NAME, num_labels=len(id_as_label), id2label =id_as_label, label2id=label_as_id\n",
    ")"
   ]
  },
  {
   "cell_type": "markdown",
   "metadata": {},
   "source": [
    "### Defining our Sentinel Tokens"
   ]
  },
  {
   "cell_type": "code",
   "execution_count": 6,
   "metadata": {},
   "outputs": [
    {
     "name": "stdout",
     "output_type": "stream",
     "text": [
      "['[UNK]', '[SEP]', '[PAD]', '[CLS]', '[MASK]', '<BoT>', '<EoT>', '<BoC>', '<EoC>']\n"
     ]
    },
    {
     "data": {
      "text/plain": [
       "Embedding(30526, 768, padding_idx=0)"
      ]
     },
     "execution_count": 6,
     "metadata": {},
     "output_type": "execute_result"
    }
   ],
   "source": [
    "TITLE_BEGIN_SENTINEL = \"<BoT>\"\n",
    "TITLE_END_SENTINEL = \"<EoT>\"\n",
    "CODE_BEGIN_SENTINEL = \"<BoC>\"\n",
    "CODE_END_SENTINEL = \"<EoC>\"\n",
    "\n",
    "special_tokens_dict = {'pad_token': '[PAD]', 'additional_special_tokens': [TITLE_BEGIN_SENTINEL,TITLE_END_SENTINEL,CODE_BEGIN_SENTINEL,CODE_END_SENTINEL]}\n",
    "num_added_toks = tokenizer.add_special_tokens(special_tokens_dict)\n",
    "print(tokenizer.all_special_tokens) \n",
    "\n",
    "model.resize_token_embeddings(len(tokenizer))"
   ]
  },
  {
   "cell_type": "markdown",
   "metadata": {},
   "source": [
    "### Preparing the Datasets"
   ]
  },
  {
   "cell_type": "code",
   "execution_count": 14,
   "metadata": {},
   "outputs": [
    {
     "name": "stderr",
     "output_type": "stream",
     "text": [
      "Filter: 100%|██████████| 471/471 [00:01<00:00, 317.43 examples/s]\n",
      "Map (num_proc=6): 100%|██████████| 401/401 [00:00<00:00, 418.04 examples/s]\n",
      "Filter: 100%|██████████| 471/471 [00:01<00:00, 409.74 examples/s]\n",
      "Map (num_proc=6): 100%|██████████| 401/401 [00:00<00:00, 425.65 examples/s]\n"
     ]
    },
    {
     "name": "stdout",
     "output_type": "stream",
     "text": [
      "Left with 401 training entries\n",
      "      and 401 test entries.\n"
     ]
    }
   ],
   "source": [
    "def create_input_text(issue_row):\n",
    "\tpadded_title = TITLE_BEGIN_SENTINEL + issue_row[\"summary\"] + TITLE_END_SENTINEL + \"\\n\"\n",
    "\treturn padded_title + issue_row[\"body\"]\n",
    "\n",
    "def process_row(row):\n",
    "\treturn {\"label\": parse_label_to_id(row['assignee']),\"text\":create_input_text(row)}   \n",
    "\n",
    "def process_dataset_entry(entries):\n",
    "\tentries =  tokenizer(entries[\"text\"], max_length=CONTEXT_LENGTH, padding=\"max_length\", truncation=True)\n",
    "\t# entries[\"label\"] = entries[\"input_ids\"].copy()\t\n",
    "\treturn entries\n",
    "\n",
    "def process_df(df):   \n",
    "\tclean_df = df.apply(process_row, axis=1,result_type='expand')\n",
    "\tdf_as_ds = Dataset.from_pandas(clean_df)\n",
    "\tdf_as_ds = df_as_ds.remove_columns([\"__index_level_0__\"])\n",
    "\n",
    "\tdf_as_ds = df_as_ds.filter(lambda x: len(tokenizer(x[\"text\"])[\"input_ids\"]) < CONTEXT_LENGTH)\n",
    "\tdf_as_ds = df_as_ds.map(process_dataset_entry,remove_columns=[\"text\"], batched=True, batch_size=16, num_proc=6) \n",
    "\treturn df_as_ds\n",
    "\n",
    "\n",
    "tokenized_train = process_df(training_dataset)\n",
    "tokenized_test = process_df(test_dataset)\n",
    "\n",
    "print(\"Left with \" + str(len(tokenized_train)) + \" training entries\")\n",
    "print(\"      and \" + str(len(tokenized_test)) + \" test entries.\")\n",
    "# data_collator = DataCollatorWithPadding(tokenizer=tokenizer)"
   ]
  },
  {
   "cell_type": "markdown",
   "metadata": {},
   "source": [
    "### Choosing an evaluation metric"
   ]
  },
  {
   "cell_type": "code",
   "execution_count": 15,
   "metadata": {},
   "outputs": [],
   "source": [
    "accuracy_evaluator = evaluate.load(\"accuracy\")\n",
    "\n",
    "def compute_metrics(eval_pred):\n",
    "    predictions, labels = eval_pred\n",
    "    predictions = np.argmax(predictions, axis=1)\n",
    "    return accuracy_evaluator.compute(predictions=predictions, references=labels)"
   ]
  },
  {
   "cell_type": "code",
   "execution_count": 20,
   "metadata": {},
   "outputs": [],
   "source": [
    "from transformers import TrainingArguments, Trainer\n",
    "\n",
    "training_args = TrainingArguments(\n",
    "    output_dir=\"./training_model\",\n",
    "    learning_rate=2e-5,\n",
    "    num_train_epochs=5,\n",
    "    # weight_decay=0.01,\n",
    "    save_strategy=\"epoch\",\n",
    ")\n",
    "\n",
    "\n",
    "trainer = Trainer(\n",
    "    model=model,\n",
    "    args=training_args,\n",
    "    train_dataset=tokenized_train,\n",
    "    eval_dataset=tokenized_test,\n",
    "    tokenizer=tokenizer,\n",
    "    compute_metrics=compute_metrics,\n",
    ")"
   ]
  },
  {
   "cell_type": "code",
   "execution_count": 21,
   "metadata": {},
   "outputs": [
    {
     "name": "stderr",
     "output_type": "stream",
     "text": [
      " 13%|█▎        | 32/255 [11:46<1:22:00, 22.07s/it]\n",
      "                                       \n",
      "100%|██████████| 255/255 [1:16:31<00:00, 18.01s/it]\n"
     ]
    },
    {
     "name": "stdout",
     "output_type": "stream",
     "text": [
      "{'train_runtime': 4591.6029, 'train_samples_per_second': 0.437, 'train_steps_per_second': 0.056, 'train_loss': 2.940982594209559, 'epoch': 5.0}\n"
     ]
    }
   ],
   "source": [
    "import os\n",
    "import torch\n",
    "\n",
    "torch.cuda.empty_cache() \n",
    "\n",
    "# os.environ[\"PYTORCH_NO_CUDA_MEMORY_CACHING\"] = \"1\"\n",
    "# os.environ[\"PYTORCH_CUDA_ALLOC_CONF\"] = \"max_split_size_mb:32,garbage_collection_threshold:0.8\"\n",
    "\n",
    "trainer.train()\n",
    "trainer.save_model(\"simple_issue_classifier\")"
   ]
  },
  {
   "cell_type": "code",
   "execution_count": 25,
   "metadata": {},
   "outputs": [
    {
     "data": {
      "text/plain": [
       "{'label': 'lszomoru', 'score': 0.05464104562997818}"
      ]
     },
     "execution_count": 25,
     "metadata": {},
     "output_type": "execute_result"
    }
   ],
   "source": [
    "from transformers import pipeline\n",
    "\n",
    "classifier = pipeline(\"text-classification\", model=\"simple_issue_classifier\", tokenizer=tokenizer)\n",
    "result = classifier(\"I can't access one of my recorded trips\")\n",
    "\n",
    "result[0]"
   ]
  }
 ],
 "metadata": {
  "kernelspec": {
   "display_name": ".venv",
   "language": "python",
   "name": "python3"
  },
  "language_info": {
   "codemirror_mode": {
    "name": "ipython",
    "version": 3
   },
   "file_extension": ".py",
   "mimetype": "text/x-python",
   "name": "python",
   "nbconvert_exporter": "python",
   "pygments_lexer": "ipython3",
   "version": "3.10.4"
  }
 },
 "nbformat": 4,
 "nbformat_minor": 2
}
