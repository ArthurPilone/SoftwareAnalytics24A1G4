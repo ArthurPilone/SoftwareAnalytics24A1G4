{
 "cells": [
  {
   "cell_type": "code",
   "execution_count": 1,
   "metadata": {},
   "outputs": [
    {
     "name": "stderr",
     "output_type": "stream",
     "text": [
      "/home/usuario/Documents/USI/Software Analytics/assignment1/SoftwareAnalytics24A1G4/.venv/lib/python3.10/site-packages/tqdm/auto.py:21: TqdmWarning: IProgress not found. Please update jupyter and ipywidgets. See https://ipywidgets.readthedocs.io/en/stable/user_install.html\n",
      "  from .autonotebook import tqdm as notebook_tqdm\n",
      "None of PyTorch, TensorFlow >= 2.0, or Flax have been found. Models won't be available and only tokenizers, configuration and file/data utilities can be used.\n"
     ]
    }
   ],
   "source": [
    "import sys\n",
    "import os\n",
    "import evaluate\n",
    "import pandas as pd\n",
    "import numpy as np\n",
    "from pathlib import Path\n",
    "\n",
    "sys.path.append(str(Path(os.path.abspath('')).absolute().parent))"
   ]
  },
  {
   "cell_type": "code",
   "execution_count": 9,
   "metadata": {},
   "outputs": [],
   "source": [
    "DATASET_PATH = \"../1K_issues.gzip\"\n",
    "\n",
    "dataset = pd.read_csv(DATASET_PATH, compression='gzip', lineterminator='\\n')\n",
    "dataset = dataset.dropna()"
   ]
  },
  {
   "cell_type": "code",
   "execution_count": 10,
   "metadata": {},
   "outputs": [
    {
     "data": {
      "text/html": [
       "<div>\n",
       "<style scoped>\n",
       "    .dataframe tbody tr th:only-of-type {\n",
       "        vertical-align: middle;\n",
       "    }\n",
       "\n",
       "    .dataframe tbody tr th {\n",
       "        vertical-align: top;\n",
       "    }\n",
       "\n",
       "    .dataframe thead th {\n",
       "        text-align: right;\n",
       "    }\n",
       "</style>\n",
       "<table border=\"1\" class=\"dataframe\">\n",
       "  <thead>\n",
       "    <tr style=\"text-align: right;\">\n",
       "      <th></th>\n",
       "      <th>identifier</th>\n",
       "      <th>assignee</th>\n",
       "      <th>summary</th>\n",
       "      <th>body</th>\n",
       "      <th>creation_time</th>\n",
       "      <th>completion_time</th>\n",
       "      <th>extra_data</th>\n",
       "    </tr>\n",
       "  </thead>\n",
       "  <tbody>\n",
       "    <tr>\n",
       "      <th>3</th>\n",
       "      <td>229807</td>\n",
       "      <td>alexdima</td>\n",
       "      <td>Fix editing session lifecycle issues</td>\n",
       "      <td>&lt;!-- Thank you for submitting a Pull Request. ...</td>\n",
       "      <td>2024-09-26 09:38:28+00:00</td>\n",
       "      <td>2024-09-26 09:57:45+00:00</td>\n",
       "      <td>{}</td>\n",
       "    </tr>\n",
       "    <tr>\n",
       "      <th>4</th>\n",
       "      <td>229806</td>\n",
       "      <td>aiday-mar</td>\n",
       "      <td>Using different backgrounds on composition ins...</td>\n",
       "      <td>in relation to https://github.com/microsoft/vs...</td>\n",
       "      <td>2024-09-26 09:37:04+00:00</td>\n",
       "      <td>2024-09-26 09:55:59+00:00</td>\n",
       "      <td>{}</td>\n",
       "    </tr>\n",
       "    <tr>\n",
       "      <th>5</th>\n",
       "      <td>229805</td>\n",
       "      <td>aeschli</td>\n",
       "      <td>Cancelling application of edits results in a d...</td>\n",
       "      <td>Fixes https://github.com/microsoft/vscode-copi...</td>\n",
       "      <td>2024-09-26 09:28:12+00:00</td>\n",
       "      <td>2024-09-26 09:47:11+00:00</td>\n",
       "      <td>{}</td>\n",
       "    </tr>\n",
       "    <tr>\n",
       "      <th>8</th>\n",
       "      <td>229802</td>\n",
       "      <td>jrieken</td>\n",
       "      <td>Revert \"Revert \"chat command center polish (#2...</td>\n",
       "      <td>This reverts commit 11fb5bbfdb1a8926b202983465...</td>\n",
       "      <td>2024-09-26 08:52:25+00:00</td>\n",
       "      <td>2024-09-26 09:11:36+00:00</td>\n",
       "      <td>{}</td>\n",
       "    </tr>\n",
       "    <tr>\n",
       "      <th>17</th>\n",
       "      <td>229793</td>\n",
       "      <td>aeschli</td>\n",
       "      <td>When i paste code it keeps auto closing the fi...</td>\n",
       "      <td>When I paste a perfectly good chunk of code, t...</td>\n",
       "      <td>2024-09-26 06:36:32+00:00</td>\n",
       "      <td>2024-09-26 09:05:34+00:00</td>\n",
       "      <td>{}</td>\n",
       "    </tr>\n",
       "  </tbody>\n",
       "</table>\n",
       "</div>"
      ],
      "text/plain": [
       "    identifier   assignee                                            summary  \\\n",
       "3       229807   alexdima               Fix editing session lifecycle issues   \n",
       "4       229806  aiday-mar  Using different backgrounds on composition ins...   \n",
       "5       229805    aeschli  Cancelling application of edits results in a d...   \n",
       "8       229802    jrieken  Revert \"Revert \"chat command center polish (#2...   \n",
       "17      229793    aeschli  When i paste code it keeps auto closing the fi...   \n",
       "\n",
       "                                                 body  \\\n",
       "3   <!-- Thank you for submitting a Pull Request. ...   \n",
       "4   in relation to https://github.com/microsoft/vs...   \n",
       "5   Fixes https://github.com/microsoft/vscode-copi...   \n",
       "8   This reverts commit 11fb5bbfdb1a8926b202983465...   \n",
       "17  When I paste a perfectly good chunk of code, t...   \n",
       "\n",
       "                creation_time            completion_time extra_data  \n",
       "3   2024-09-26 09:38:28+00:00  2024-09-26 09:57:45+00:00         {}  \n",
       "4   2024-09-26 09:37:04+00:00  2024-09-26 09:55:59+00:00         {}  \n",
       "5   2024-09-26 09:28:12+00:00  2024-09-26 09:47:11+00:00         {}  \n",
       "8   2024-09-26 08:52:25+00:00  2024-09-26 09:11:36+00:00         {}  \n",
       "17  2024-09-26 06:36:32+00:00  2024-09-26 09:05:34+00:00         {}  "
      ]
     },
     "execution_count": 10,
     "metadata": {},
     "output_type": "execute_result"
    }
   ],
   "source": [
    "\n",
    "dataset.head()"
   ]
  },
  {
   "cell_type": "code",
   "execution_count": 4,
   "metadata": {},
   "outputs": [],
   "source": [
    "label_as_id = {\"irr\" : 0, \"pbr\" : 1, \"inq\" : 2}\n",
    "id_as_label = {0: \"irr\", 1: \"pbr\", 2: \"inq\"}\n",
    "\n",
    "def parse_label_to_id(label):\n",
    "    return label_as_id[label]"
   ]
  },
  {
   "cell_type": "code",
   "execution_count": 2,
   "metadata": {},
   "outputs": [],
   "source": [
    "from transformers import AutoTokenizer, DataCollatorWithPadding\n",
    "from datasets import Dataset\n",
    "\n",
    "distilbert_tokenizer = AutoTokenizer.from_pretrained(\"distilbert/distilbert-base-uncased\")\n",
    "tokenizer = distilbert_tokenizer"
   ]
  },
  {
   "cell_type": "code",
   "execution_count": 7,
   "metadata": {},
   "outputs": [
    {
     "data": {
      "application/vnd.jupyter.widget-view+json": {
       "model_id": "5f30d01d2d5c4a1da3f94562130d19e5",
       "version_major": 2,
       "version_minor": 0
      },
      "text/plain": [
       "Map:   0%|          | 0/15079 [00:00<?, ? examples/s]"
      ]
     },
     "metadata": {},
     "output_type": "display_data"
    },
    {
     "data": {
      "application/vnd.jupyter.widget-view+json": {
       "model_id": "c92a7e1f8e1b4c4eb832db3f05f0bfd3",
       "version_major": 2,
       "version_minor": 0
      },
      "text/plain": [
       "Map:   0%|          | 0/1677 [00:00<?, ? examples/s]"
      ]
     },
     "metadata": {},
     "output_type": "display_data"
    }
   ],
   "source": [
    "def process_df(df):\n",
    "    def process_row(row):\n",
    "        return {\"label\": parse_label_to_id(row['category']),\"text\":row['text']}\n",
    "    def process_data_entry(entries):\n",
    "        return tokenizer(entries[\"text\"],max_length=512, truncation=True)\n",
    "    clean_df = df.apply(process_row, axis=1,result_type='expand')\n",
    "    # print(clean_df)\n",
    "    df_as_ds = Dataset.from_pandas(clean_df)\n",
    "    df_as_ds = df_as_ds.map(process_data_entry, batched=True)\n",
    "    return df_as_ds\n",
    "\n",
    "tokenized_train = process_df(train_df)\n",
    "tokenized_test = process_df(test_df)\n",
    "data_collator = DataCollatorWithPadding(tokenizer=tokenizer)"
   ]
  },
  {
   "cell_type": "code",
   "execution_count": 8,
   "metadata": {},
   "outputs": [],
   "source": [
    "accuracy_evaluator = evaluate.load(\"accuracy\")\n",
    "\n",
    "def compute_metrics(eval_pred):\n",
    "    predictions, labels = eval_pred\n",
    "    predictions = np.argmax(predictions, axis=1)\n",
    "    return accuracy_evaluator.compute(predictions=predictions, references=labels)"
   ]
  },
  {
   "cell_type": "code",
   "execution_count": null,
   "metadata": {},
   "outputs": [],
   "source": [
    "from transformers import AutoModelForSequenceClassification, TrainingArguments, Trainer\n",
    "\n",
    "model = AutoModelForSequenceClassification.from_pretrained(\n",
    "    \"distilbert/distilbert-base-uncased\", num_labels=3, id2label = id_as_label, label2id=label_as_id\n",
    ")\n",
    "\n",
    "training_args = TrainingArguments(\n",
    "    output_dir=\"./test_model\",\n",
    "    learning_rate=2e-5,\n",
    "    num_train_epochs=2,\n",
    "    weight_decay=0.01,\n",
    "    evaluation_strategy=\"epoch\",\n",
    "    save_strategy=\"epoch\",\n",
    "    load_best_model_at_end=True,\n",
    ")\n",
    "\n",
    "\n",
    "trainer = Trainer(\n",
    "    model=model,\n",
    "    args=training_args,\n",
    "    train_dataset=tokenized_train,\n",
    "    eval_dataset=tokenized_test,\n",
    "    tokenizer=tokenizer,\n",
    "    data_collator=data_collator,\n",
    "    compute_metrics=compute_metrics,\n",
    ")"
   ]
  },
  {
   "cell_type": "code",
   "execution_count": null,
   "metadata": {},
   "outputs": [],
   "source": [
    "import os\n",
    "import torch\n",
    "\n",
    "torch.cuda.empty_cache() \n",
    "\n",
    "# os.environ[\"PYTORCH_NO_CUDA_MEMORY_CACHING\"] = \"1\"\n",
    "# os.environ[\"PYTORCH_CUDA_ALLOC_CONF\"] = \"max_split_size_mb:32,garbage_collection_threshold:0.8\"\n",
    "\n",
    "trainer.train()\n",
    "trainer.save_model(\"simple_feedback_classifier\")"
   ]
  },
  {
   "cell_type": "code",
   "execution_count": 8,
   "metadata": {},
   "outputs": [
    {
     "data": {
      "text/plain": [
       "'inq'"
      ]
     },
     "execution_count": 8,
     "metadata": {},
     "output_type": "execute_result"
    }
   ],
   "source": [
    "from transformers import pipeline\n",
    "\n",
    "classifier = pipeline(\"text-classification\", model=\"../models/simple_feedback_classifier\", tokenizer=tokenizer)\n",
    "result = classifier(\"I can't access one of my recorded trips\")\n",
    "\n",
    "result[0]['label']"
   ]
  },
  {
   "cell_type": "code",
   "execution_count": 4,
   "metadata": {},
   "outputs": [
    {
     "data": {
      "text/plain": [
       "'bug_report'"
      ]
     },
     "execution_count": 4,
     "metadata": {},
     "output_type": "execute_result"
    }
   ],
   "source": [
    "from deeperMatcher.src.user_feedback.classifier.hf_model_based_classifier.hf_model_based_classifier import HF_Model_Based_Classifier \n",
    "\n",
    "new_classifier = HF_Model_Based_Classifier()\n",
    "new_classifier.classify_review(\"I can't access one of my recorded trips\")"
   ]
  }
 ],
 "metadata": {
  "kernelspec": {
   "display_name": ".venv",
   "language": "python",
   "name": "python3"
  },
  "language_info": {
   "codemirror_mode": {
    "name": "ipython",
    "version": 3
   },
   "file_extension": ".py",
   "mimetype": "text/x-python",
   "name": "python",
   "nbconvert_exporter": "python",
   "pygments_lexer": "ipython3",
   "version": "3.10.4"
  }
 },
 "nbformat": 4,
 "nbformat_minor": 2
}
