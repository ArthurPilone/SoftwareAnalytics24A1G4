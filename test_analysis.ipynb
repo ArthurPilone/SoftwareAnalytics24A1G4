{
 "cells": [
  {
   "cell_type": "code",
   "execution_count": 1,
   "metadata": {},
   "outputs": [],
   "source": [
    "import pandas as pd\n",
    "\n",
    "from issue import Issue"
   ]
  },
  {
   "cell_type": "code",
   "execution_count": 2,
   "metadata": {},
   "outputs": [],
   "source": [
    "TEST_FILE_PATH = \"teste.csv.gzip\"\n",
    "\n",
    "sample_dataset = pd.read_csv(TEST_FILE_PATH, compression='gzip', lineterminator='\\n')\n",
    "\n",
    "issues_dict_list = sample_dataset.to_dict('records')\n",
    "\n",
    "\n",
    "issues = []\n",
    "\n",
    "for issue_dict in issues_dict_list:\n",
    "\tnew_issue = Issue.from_dict(issue_dict)\n",
    "\tissues.append(new_issue)"
   ]
  },
  {
   "cell_type": "code",
   "execution_count": 4,
   "metadata": {},
   "outputs": [
    {
     "name": "stdout",
     "output_type": "stream",
     "text": [
      "{'identifier': '228165', 'assignee': 'NamedUser(login=\"mjbvz\")', 'summary': \"Don't strip command uris in walkthrough\", 'body': 'Fixes #228013\\r\\n\\r\\n<!-- Thank you for submitting a Pull Request. Please:\\r\\n* Read our Pull Request guidelines:\\r\\n  https://github.com/microsoft/vscode/wiki/How-to-Contribute#pull-requests\\r\\n* Associate an issue with the Pull Request.\\r\\n* Ensure that the code is up-to-date with the `main` branch.\\r\\n* Include a description of the proposed changes and how to test them.\\r\\n-->\\r\\n', 'creation_time': datetime.datetime(2024, 9, 10, 22, 11, 36, tzinfo=tzutc()), 'completion_time': datetime.datetime(2024, 9, 10, 22, 29, 33, tzinfo=tzutc()), 'extra_data': {}}\n"
     ]
    }
   ],
   "source": [
    "print(issues[999].to_dict())"
   ]
  }
 ],
 "metadata": {
  "kernelspec": {
   "display_name": ".venv",
   "language": "python",
   "name": "python3"
  },
  "language_info": {
   "codemirror_mode": {
    "name": "ipython",
    "version": 3
   },
   "file_extension": ".py",
   "mimetype": "text/x-python",
   "name": "python",
   "nbconvert_exporter": "python",
   "pygments_lexer": "ipython3",
   "version": "3.10.4"
  }
 },
 "nbformat": 4,
 "nbformat_minor": 2
}
