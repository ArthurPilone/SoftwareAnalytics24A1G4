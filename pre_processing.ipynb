{
 "cells": [
  {
   "cell_type": "code",
   "execution_count": 1,
   "metadata": {},
   "outputs": [],
   "source": [
    "import re\n",
    "\n",
    "import pandas as pd\n",
    "\n",
    "from issue import Issue\n",
    "from tqdm import tqdm"
   ]
  },
  {
   "cell_type": "code",
   "execution_count": 2,
   "metadata": {},
   "outputs": [
    {
     "name": "stderr",
     "output_type": "stream",
     "text": [
      " 24%|██▍       | 52804/216976 [00:46<01:58, 1380.37it/s]"
     ]
    },
    {
     "name": "stdout",
     "output_type": "stream",
     "text": [
      "Tried to create issue from dict with no 'title'/'summary' key\n"
     ]
    },
    {
     "name": "stderr",
     "output_type": "stream",
     "text": [
      " 58%|█████▊    | 125882/216976 [01:56<01:37, 936.46it/s] "
     ]
    },
    {
     "name": "stdout",
     "output_type": "stream",
     "text": [
      "Tried to create issue from dict with no 'title'/'summary' key\n"
     ]
    },
    {
     "name": "stderr",
     "output_type": "stream",
     "text": [
      " 59%|█████▊    | 127327/216976 [01:57<00:59, 1497.74it/s]"
     ]
    },
    {
     "name": "stdout",
     "output_type": "stream",
     "text": [
      "Tried to create issue from dict with no 'title'/'summary' key\n"
     ]
    },
    {
     "name": "stderr",
     "output_type": "stream",
     "text": [
      " 59%|█████▉    | 128013/216976 [01:58<01:17, 1142.29it/s]"
     ]
    },
    {
     "name": "stdout",
     "output_type": "stream",
     "text": [
      "Tried to create issue from dict with no 'title'/'summary' key\n",
      "Tried to create issue from dict with no 'title'/'summary' key\n"
     ]
    },
    {
     "name": "stderr",
     "output_type": "stream",
     "text": [
      " 68%|██████▊   | 146572/216976 [02:17<01:26, 811.85it/s] "
     ]
    },
    {
     "name": "stdout",
     "output_type": "stream",
     "text": [
      "Tried to create issue from dict with no 'title'/'summary' key\n"
     ]
    },
    {
     "name": "stderr",
     "output_type": "stream",
     "text": [
      " 71%|███████▏  | 154950/216976 [02:25<00:53, 1161.71it/s]"
     ]
    },
    {
     "name": "stdout",
     "output_type": "stream",
     "text": [
      "Tried to create issue from dict with no 'title'/'summary' key\n"
     ]
    },
    {
     "name": "stderr",
     "output_type": "stream",
     "text": [
      "100%|██████████| 216976/216976 [03:22<00:00, 1072.19it/s]\n"
     ]
    }
   ],
   "source": [
    "DATA_FILE_PATH = \"../vscode_issues_SA.csv.gzip\" # \"../teste.csv.gzip\" # \"../vscode_issues_SA.csv.gzip\"\n",
    "\n",
    "sample_dataset = pd.read_csv(DATA_FILE_PATH, compression='gzip', lineterminator='\\n')\n",
    "\n",
    "issues_dict_list = sample_dataset.to_dict('records')\n",
    "\n",
    "issues = []\n",
    "training_dataset = []\n",
    "\n",
    "for issue_dict in tqdm(issues_dict_list):\n",
    "\ttry:\n",
    "\t\tnew_issue = Issue.from_dict(issue_dict)\n",
    "\t\tif \"210000\" < new_issue.get_id() < \"220000\":\n",
    "\t\t\ttraining_dataset.append(new_issue)\n",
    "\t\tissues.append(issues)\n",
    "\texcept Exception as e:\n",
    "\t\tpass\n",
    "\t"
   ]
  },
  {
   "cell_type": "code",
   "execution_count": 4,
   "metadata": {},
   "outputs": [
    {
     "name": "stdout",
     "output_type": "stream",
     "text": [
      "216969\n"
     ]
    }
   ],
   "source": [
    "print(len(issues))"
   ]
  },
  {
   "cell_type": "code",
   "execution_count": 3,
   "metadata": {},
   "outputs": [
    {
     "name": "stdout",
     "output_type": "stream",
     "text": [
      "7512\n"
     ]
    }
   ],
   "source": [
    "print(len(training_dataset))"
   ]
  },
  {
   "cell_type": "code",
   "execution_count": 6,
   "metadata": {},
   "outputs": [
    {
     "name": "stdout",
     "output_type": "stream",
     "text": [
      "1000\n"
     ]
    }
   ],
   "source": [
    "def apply_steps_to_dataset(processing_funcs, dataset):\n",
    "\t\n",
    "\tnew_issues = []\n",
    "\n",
    "\tfor issue in dataset:\n",
    "\t\tfor func in processing_funcs:\n",
    "\t\t\tissue = func(issue)\n",
    "\t\t\tif issue is None:\n",
    "\t\t\t\tbreak\n",
    "\t\tif issue is not None:\n",
    "\t\t\tnew_issues.append(issue)\n",
    "\t\n",
    "\treturn new_issues"
   ]
  },
  {
   "cell_type": "markdown",
   "metadata": {},
   "source": [
    "### Pre-Processing Steps"
   ]
  },
  {
   "cell_type": "code",
   "execution_count": null,
   "metadata": {},
   "outputs": [],
   "source": []
  },
  {
   "cell_type": "markdown",
   "metadata": {},
   "source": [
    "### Saving the results to a new file"
   ]
  },
  {
   "cell_type": "code",
   "execution_count": null,
   "metadata": {},
   "outputs": [],
   "source": [
    "DESTINATION_PATH = \"../clean_issues.csv.gzip\""
   ]
  },
  {
   "cell_type": "code",
   "execution_count": null,
   "metadata": {},
   "outputs": [],
   "source": [
    "def save_issue_repo(new_path,issue_repo):\n",
    "\tissues_as_dicts = []\n",
    "\tprint(\"Parsing collected issues.\\nThis might take a few minutes\")\n",
    "\n",
    "\tfor issue in tqdm(issue_repo):\n",
    "\t\t# print(vars(issue))\n",
    "\t\n",
    "\t\tissues_as_dicts.append(issue.to_dict())\n",
    "\n",
    "\tissues_as_dataset = pd.DataFrame.from_dict(issues_as_dicts)\n",
    "\tissues_as_dataset.to_csv(new_path, compression='gzip', index=False)"
   ]
  },
  {
   "cell_type": "code",
   "execution_count": null,
   "metadata": {},
   "outputs": [],
   "source": [
    "save_issue_repo(DESTINATION_PATH,clean_issues)"
   ]
  }
 ],
 "metadata": {
  "kernelspec": {
   "display_name": ".venv",
   "language": "python",
   "name": "python3"
  },
  "language_info": {
   "codemirror_mode": {
    "name": "ipython",
    "version": 3
   },
   "file_extension": ".py",
   "mimetype": "text/x-python",
   "name": "python",
   "nbconvert_exporter": "python",
   "pygments_lexer": "ipython3",
   "version": "3.10.4"
  }
 },
 "nbformat": 4,
 "nbformat_minor": 2
}
